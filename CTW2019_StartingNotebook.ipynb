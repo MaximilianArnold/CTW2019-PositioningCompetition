{
 "cells": [
  {
   "cell_type": "markdown",
   "metadata": {},
   "source": [
    "# Indoor Positioning over h-Estimated  LoS"
   ]
  },
  {
   "cell_type": "markdown",
   "metadata": {},
   "source": [
    "Notebook for the CTW Competition 2019:\n",
    "\n",
    "By Maximilian Arnold, Marc Gauger,  Jakob Hoydis, and Stephan ten Brink.\n",
    "Contact: arnold / gauger / tenbrink@inue.uni-stuttgart.de\n",
    "\n",
    "This code is provided for the CTW Competition: Indoor user localisation.\n",
    "It is licensed under the GPLv2 license. If you in any way use this code for research that results in publications, please cite it appropriately. \n",
    "\n",
    "Paper: Novel Massive MIMO Channel Sounding Data Applied to Deep Learning-based Indoor Positioning\n"
   ]
  },
  {
   "cell_type": "markdown",
   "metadata": {},
   "source": [
    "# Settings LoS"
   ]
  },
  {
   "cell_type": "code",
   "execution_count": 1,
   "metadata": {},
   "outputs": [],
   "source": [
    "# Data Sets\n",
    "Nb_of_Datasets = 1\n",
    "Data_Foldername = './1_Measured_Data/'\n",
    "\n",
    "Meas_Comb_h =    \"%s/h_Estimated_CTW.mat\" % (Data_Foldername)\n",
    "Meas_Comb_r =    \"%s/r_Position_CTW.mat\" % (Data_Foldername)\n",
    "Meas_Comb_SNR =   \"%sSNR_CTW_Train.mat\" % (Data_Foldername)\n",
    "\n",
    "# Filename Array\n",
    "Filenames_h =  [Meas_Comb_h]\n",
    "Filenames_r =  [Meas_Comb_r]\n",
    "\n",
    "# Traniningsize \n",
    "TrainingsSize = 0.9# 90 %"
   ]
  },
  {
   "cell_type": "code",
   "execution_count": 2,
   "metadata": {},
   "outputs": [],
   "source": [
    "## Input Settings ########################################\n",
    "# NN Settings\n",
    "nb_epoch =50                           # number of learning epochs\n",
    "batch_sizes = [8,64,128,256,1024]             # size of batches for calculation the gradient\n",
    "\n",
    "# Number of Antennas \n",
    "Nb_Antennas = [2,4,8,16]\n",
    "\n",
    "# OutputName\n",
    "Filename_Pre = './2_Results/';"
   ]
  },
  {
   "cell_type": "markdown",
   "metadata": {},
   "source": [
    "# Standard Includes"
   ]
  },
  {
   "cell_type": "code",
   "execution_count": 3,
   "metadata": {
    "scrolled": true
   },
   "outputs": [
    {
     "name": "stderr",
     "output_type": "stream",
     "text": [
      "Using TensorFlow backend.\n"
     ]
    },
    {
     "name": "stdout",
     "output_type": "stream",
     "text": [
      "Tue Jan 29 08:31:40 2019       \r\n",
      "+-----------------------------------------------------------------------------+\r\n",
      "| NVIDIA-SMI 384.130                Driver Version: 384.130                   |\r\n",
      "|-------------------------------+----------------------+----------------------+\r\n",
      "| GPU  Name        Persistence-M| Bus-Id        Disp.A | Volatile Uncorr. ECC |\r\n",
      "| Fan  Temp  Perf  Pwr:Usage/Cap|         Memory-Usage | GPU-Util  Compute M. |\r\n",
      "|===============================+======================+======================|\r\n",
      "|   0  GeForce GTX 108...  On   | 00000000:02:00.0 Off |                  N/A |\r\n",
      "| 42%   63C    P2   239W / 300W |  11155MiB / 11172MiB |     95%      Default |\r\n",
      "+-------------------------------+----------------------+----------------------+\r\n",
      "|   1  GeForce GTX 108...  On   | 00000000:03:00.0 Off |                  N/A |\r\n",
      "| 52%   67C    P2    82W / 300W |  10776MiB / 11170MiB |     82%      Default |\r\n",
      "+-------------------------------+----------------------+----------------------+\r\n",
      "                                                                               \r\n",
      "+-----------------------------------------------------------------------------+\r\n",
      "| Processes:                                                       GPU Memory |\r\n",
      "|  GPU       PID   Type   Process name                             Usage      |\r\n",
      "|=============================================================================|\r\n",
      "+-----------------------------------------------------------------------------+\r\n"
     ]
    }
   ],
   "source": [
    "import os\n",
    "import random\n",
    "os.environ[\"CUDA_VISIBLE_DEVICES\"] = \"0\"\n",
    "import tensorflow as tf\n",
    "import keras.backend.tensorflow_backend as KTF\n",
    "def get_session(gpu_fraction=1):\n",
    "    \n",
    "    num_threads = os.environ.get('OMP_NUM_THREADS')\n",
    "    gpu_options = tf.GPUOptions(per_process_gpu_memory_fraction=gpu_fraction)\n",
    "\n",
    "    if num_threads:\n",
    "        return tf.Session(config=tf.ConfigProto(\n",
    "            gpu_options=gpu_options, intra_op_parallelism_threads=num_threads))\n",
    "    else:\n",
    "        return tf.Session(config=tf.ConfigProto(gpu_options=gpu_options))\n",
    "\n",
    "KTF.set_session(get_session())\n",
    "import numpy as np\n",
    "import hdf5storage\n",
    "from keras.models import Model, Sequential\n",
    "from keras.layers import Input, Dense, Lambda, Reshape, Conv1D, Conv2D, AveragePooling2D,Flatten, Dropout, SimpleRNN, LSTM, concatenate\n",
    "from keras import backend as K\n",
    "from keras.layers.normalization import BatchNormalization\n",
    "from keras.callbacks import EarlyStopping\n",
    "from IPython.core.display import Image, display\n",
    "from mpl_toolkits.mplot3d import Axes3D\n",
    "import matplotlib.pyplot as plt\n",
    "%matplotlib inline\n",
    "from mpl_toolkits.mplot3d import axes3d\n",
    "from numpy import ma\n",
    "import scipy.io as sio\n",
    "from IPython.display import Image\n",
    "from matplotlib import cm as CM\n",
    "from nbconvert import HTMLExporter\n",
    "import keras\n",
    "keras.__version__\n",
    "!nvidia-smi\n",
    "\n",
    "# Distance Functions\n",
    "def dist(y_true, y_pred):    \n",
    "    return tf.reduce_mean((tf.sqrt(tf.square(tf.abs(y_pred[:,0]-y_true[:,0]))+tf.square(tf.abs(y_pred[:,1]-y_true[:,1]))+tf.square(tf.abs(y_pred[:,2]-y_true[:,2])))))\n",
    "\n",
    "def true_dist(y_true, y_pred):    \n",
    "    return (np.sqrt(np.square(np.abs(y_pred[:,0]-y_true[:,0]))+np.square(np.abs(y_pred[:,1]-y_true[:,1]))+np.square(np.abs(y_pred[:,2]-y_true[:,2]))))\n"
   ]
  },
  {
   "cell_type": "code",
   "execution_count": 23,
   "metadata": {},
   "outputs": [
    {
     "data": {
      "image/png": "[encoded data removed]",
      "text/plain": [
       "<Figure size 432x288 with 1 Axes>"
      ]
     },
     "metadata": {},
     "output_type": "display_data"
    }
   ],
   "source": [
    "# Example for Measurement Quality\n",
    "SNR_Mat = hdf5storage.loadmat(Meas_Comb_SNR)\n",
    "SNR_Meas = np.transpose(SNR_Mat['SNR_Est'])\n",
    "\n",
    "\n",
    "num_bins = 50\n",
    "# Use the histogram function to bin the data\n",
    "counts, bin_edges = np.histogram(SNR_Meas, bins=num_bins, normed=True)\n",
    "\n",
    "# Now find the cdf\n",
    "cdf = np.cumsum(counts)\n",
    "\n",
    "# And finally plot the cdf\n",
    "plt.plot(bin_edges[1:], cdf)\n",
    "plt.xlim(0, 20)\n",
    "plt.xlabel('SNR [dB]')\n",
    "plt.ylabel('F(X>x)')\n",
    "plt.title('Cdfplot of all antennas stacked')\n",
    "plt.show()"
   ]
  },
  {
   "cell_type": "markdown",
   "metadata": {},
   "source": [
    "## Sweep over Datasets"
   ]
  },
  {
   "cell_type": "code",
   "execution_count": null,
   "metadata": {},
   "outputs": [],
   "source": [
    "# Allocate Space for Results\n",
    "Mean_Error_Train = np.empty([np.int(Nb_of_Datasets),len(Nb_Antennas)])\n",
    "Mean_Error_Test = np.empty([np.int(Nb_of_Datasets),len(Nb_Antennas)])\n",
    "\n",
    "# Sweep over Datasets\n",
    "for Current_Dataset_Index in range(0,Nb_of_Datasets,1):\n",
    "    ## Load Current Dataset\n",
    "    VariableName_h = Filenames_h[Current_Dataset_Index]\n",
    "    VariableName_r = Filenames_r[Current_Dataset_Index]\n",
    "    \n",
    "    # h_Estimated\n",
    "    h_Estimated_Mat = hdf5storage.loadmat(VariableName_h)\n",
    "    h_Estimated = np.transpose(h_Estimated_Mat['h_Estimated'])\n",
    "    h_Estimated = np.swapaxes(h_Estimated ,0,2)\n",
    "    h_Estimated = np.stack((np.real(h_Estimated),np.imag(h_Estimated)),axis=-1)\n",
    "\n",
    "    # Labels\n",
    "    position = sio.loadmat(VariableName_r)\n",
    "    target_pos = np.transpose(position['r_Position'])\n",
    "    target_pos = np.swapaxes(target_pos,0,1)\n",
    "\n",
    "    # Schuffle\n",
    "    shuffling_index =random.sample(range(target_pos[:,0].size),target_pos[:,0].size);\n",
    "    h_Estimated = h_Estimated[shuffling_index,:,:,:]\n",
    "    target_pos =  target_pos[shuffling_index,:]\n",
    "    target_pos = target_pos\n",
    "    target_pos[:,0] = target_pos[:,0]\n",
    "    target_pos[:,1] = target_pos[:,1]\n",
    "    \n",
    "    # Split Data\n",
    "    h_Estimated_train_saved = h_Estimated[0:int(TrainingsSize*target_pos[:,0].size),:,:,:]\n",
    "    Positions_train =   target_pos[0:int(TrainingsSize*target_pos[:,0].size),:]\n",
    "    h_Estimated_test_saved =  h_Estimated[int(TrainingsSize*target_pos[:,0].size):,:,:,:]\n",
    "    Positions_test =    target_pos[int(TrainingsSize*target_pos[:,0].size):,:]\n",
    "    Length_Test = len(Positions_test[:,0])\n",
    "\n",
    "\n",
    "    for Antenna_index in range (0,len(Nb_Antennas)):\n",
    "        # Current Nb Antennas\n",
    "        Current_Nb_Antennas = Nb_Antennas[Antenna_index]\n",
    "        h_Estimated_train = h_Estimated_train_saved[:,0::int(16/Current_Nb_Antennas),:,:]\n",
    "        h_Estimated_test =  h_Estimated_test_saved[:,0::int(16/Current_Nb_Antennas),:,:]\n",
    "              \n",
    "        #Create Net \n",
    "        nn_input  = Input((Current_Nb_Antennas,924,2))\n",
    "        nn_output = Flatten()(nn_input)\n",
    "        nn_output = Dense(128,activation='relu')(nn_output)\n",
    "        nn_output = Dense(256,activation='relu')(nn_output)\n",
    "        nn_output = Dense(128,activation='relu')(nn_output)\n",
    "        nn_output = Dense(3,activation='linear')(nn_output)\n",
    "        nn = Model(inputs=nn_input,outputs=nn_output)\n",
    "        nn.compile(optimizer='Adam', loss='mse',metrics=[dist])\n",
    "        nn.summary()\n",
    " \n",
    "    \n",
    "        # Train Neural Network\n",
    "        for b in batch_sizes:\n",
    "            train_hist = nn.fit(x=h_Estimated_train,y=Positions_train,batch_size=b,epochs=nb_epoch,validation_data=(h_Estimated_test, Positions_test))\n",
    "        \n",
    "        # Evaluate Performance\n",
    "        r_Positions_pred_train = nn.predict(h_Estimated_train)\n",
    "        r_Positions_pred_test = nn.predict(h_Estimated_test)\n",
    "        errors_train = true_dist(Positions_train,r_Positions_pred_train)\n",
    "        errors_test  = true_dist(Positions_test,r_Positions_pred_test)\n",
    "       \n",
    "        Mean_Error_Train[Current_Dataset_Index,Antenna_index] =  np.mean(np.abs(errors_train))\n",
    "        Mean_Error_Test[Current_Dataset_Index,Antenna_index] = np.mean(np.abs(errors_test))\n",
    "        print(\"Mean error on Train area:\",  Mean_Error_Train[Current_Dataset_Index,Antenna_index])\n",
    "        print(\"Mean error on Test  area:\",Mean_Error_Test[Current_Dataset_Index,Antenna_index])\n"
   ]
  },
  {
   "cell_type": "code",
   "execution_count": null,
   "metadata": {},
   "outputs": [],
   "source": [
    "# Median Error\n",
    "plt.plot(Nb_Antennas,Mean_Error_Test[0,:])\n",
    "plt.xlabel('Number of antennas')\n",
    "plt.ylabel('Distance error')"
   ]
  },
  {
   "cell_type": "code",
   "execution_count": null,
   "metadata": {},
   "outputs": [],
   "source": [
    "# Histogramm of errors on test Area\n",
    "errors = true_dist(r_Positions_pred_test , Positions_test)\n",
    "plt.hist(errors,bins=64,range=(0,4))\n",
    "plt.ylabel('Number of occurence')\n",
    "plt.xlabel('Distance error')\n"
   ]
  },
  {
   "cell_type": "code",
   "execution_count": null,
   "metadata": {},
   "outputs": [],
   "source": [
    "# Error Vector over Area in XY\n",
    "error_vectors = np.real(r_Positions_pred_test - Positions_test)\n",
    "plt.figure(figsize=(15,15))\n",
    "plt.quiver(np.real(Positions_test[:,0]),np.real(Positions_test[:,1]),error_vectors[:,0],error_vectors[:,1],errors)\n",
    "plt.xlabel(\"x in m\")\n",
    "plt.ylabel(\"y in m\")\n",
    "plt.show()"
   ]
  },
  {
   "cell_type": "code",
   "execution_count": null,
   "metadata": {},
   "outputs": [],
   "source": []
  }
 ],
 "metadata": {
  "kernelspec": {
   "display_name": "Python 3",
   "language": "python",
   "name": "python3"
  },
  "language_info": {
   "codemirror_mode": {
    "name": "ipython",
    "version": 3
   },
   "file_extension": ".py",
   "mimetype": "text/x-python",
   "name": "python",
   "nbconvert_exporter": "python",
   "pygments_lexer": "ipython3",
   "version": "3.5.2"
  }
 },
 "nbformat": 4,
 "nbformat_minor": 1
}
